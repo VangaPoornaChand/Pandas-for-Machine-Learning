{
 "cells": [
  {
   "cell_type": "markdown",
   "metadata": {},
   "source": [
    "### What is Pandas ?\n",
    "    -- > Pandas is a Python Library that makes data science easy. It is a tool mainly used for data manipulation and\n",
    "        analysis.\n",
    "    -- > In pandas we often hear a word called DataFrame. \n",
    "### What is DataFrame ?\n",
    "    --> DataFrame is a 2-dimensional labeled data structure with columns of potentially different types. You can think of it like a spreadsheet or SQL table, or a dict of Series objects. It is generally the most commonly used pandas object.\n",
    "        \n",
    "### Creating DataFrame\n",
    "Lets Understand the concept by taking an example.\n",
    "\n",
    "            1. I have some Website Traffic Data like :\n",
    "                      Day Date         Visitors    Number of Visitors liked the web page   \n",
    "                      1   11/02/2019     55              40\n",
    "                      2   12/02/2019     48              30\n",
    "                      3   13/02/2019     69              49\n",
    "                      4   14/02/2019     79              4\n",
    "                      5   15/02/2019     108             73\n",
    "                      6   16/02/2019     95              10\n",
    "                      \n",
    "            Q1. Find the Max number of visitors to the website.\n",
    "            Q2. On which dates Max and Min number of visitors visited the site.\n",
    "            Q3. Find the average number of visitor liked the website.\n",
    "            Q4. Find the correlation between the Visitor and No. of Visitors liked the Web Page\n",
    "            \n",
    "            \n",
    "The Above represented data is properly arranged into rows and colomns.Right ?\n",
    "Now the Question comes,How can we represent the same data that every data item is very efficiently accessable and how can we able to perform some manipulation or analsis operations on the Data.\n",
    "\n",
    "The DataFrame is the object of pandas that help with that issue. Let's create a dataFrame containing the above data.\n",
    "You all might know about Python dictionaries. Lets create a Python dictionary containing the Above data........"
   ]
  },
  {
   "cell_type": "code",
   "execution_count": 1,
   "metadata": {},
   "outputs": [],
   "source": [
    "WebSite_Data = {\n",
    "    'Day':[1,2,3,4,5,6],\n",
    "    'Date':['11/02/2019','12/02/2019','13/02/2019','14/02/2019','15/02/2019','16/02/2019'],\n",
    "    'Visitors':[55,48,69,79,108,95],\n",
    "    'No. Of Vistors Liked':[40,30,49,4,73,10]\n",
    "}"
   ]
  },
  {
   "cell_type": "markdown",
   "metadata": {},
   "source": [
    "#### Now we have a simple Python dictionary contains the required data... Now lets create a dataframe with that python dict. \n",
    "        To create a dataframe we need to import our pandas library. Right?\n",
    "        import pandas as pd -> Here, pd is an alias for pandas. All the pandas classes/objects can simply be accessed by pd  instead as pandas. pd is most commonly used alias for pandas by most of the data engineers. For this session we follow  the same representation as well..."
   ]
  },
  {
   "cell_type": "code",
   "execution_count": 2,
   "metadata": {},
   "outputs": [],
   "source": [
    "import pandas as pd    # Importing our library"
   ]
  },
  {
   "cell_type": "code",
   "execution_count": 3,
   "metadata": {},
   "outputs": [],
   "source": [
    "df = pd.DataFrame(WebSite_Data)  "
   ]
  },
  {
   "cell_type": "markdown",
   "metadata": {},
   "source": [
    "    1. DataFrame() is the method written/avaliable in pandas library.\n",
    "    2. This DataFrame function takes the data as the parameter. Here the data can be of Python Dictionary, Python List or \n",
    "        Tuples as well.Here, we have passed Python Dictionary as the data....\n",
    "    3. The DataFrame() Method/function creates dataframe object with the data passed. To store the returned dataframe object \n",
    "        we use 'df' variable... You can use any name, as df is also most commonly used to represent the dataframe object I \n",
    "        have used here.\n",
    "    4. To view how the data is created in Dataframe object(Here df), simply we can print. But if we print the data the \n",
    "        output is not going to be good looking always. So Most of the people use head() function to see the output..."
   ]
  },
  {
   "cell_type": "code",
   "execution_count": 4,
   "metadata": {
    "scrolled": true
   },
   "outputs": [
    {
     "name": "stdout",
     "output_type": "stream",
     "text": [
      "Printing the Dataframe by normal print statement of python :\n",
      "------------------------------------------------------------\n",
      "   Day        Date  Visitors  No. Of Vistors Liked\n",
      "0    1  11/02/2019        55                    40\n",
      "1    2  12/02/2019        48                    30\n",
      "2    3  13/02/2019        69                    49\n",
      "3    4  14/02/2019        79                     4\n",
      "4    5  15/02/2019       108                    73\n",
      "5    6  16/02/2019        95                    10\n"
     ]
    }
   ],
   "source": [
    "print(\"Printing the Dataframe by normal print statement of python :\")\n",
    "print(\"------------------------------------------------------------\")\n",
    "print(df)"
   ]
  },
  {
   "cell_type": "code",
   "execution_count": 5,
   "metadata": {
    "scrolled": true
   },
   "outputs": [
    {
     "name": "stdout",
     "output_type": "stream",
     "text": [
      "Printing the Dataframe by using head function of pandas :\n",
      "df.head() function by default print the first 5 datapoints....Here to see all the data points I use df.head(10)\n",
      "\n",
      "        As discussed earlier head() is function avaliable in pandas. The head() function can be called by the dataframe object \n",
      "      so the statement is df.head()(dataframe_object.method())\n",
      "      \n"
     ]
    },
    {
     "data": {
      "text/html": [
       "<div>\n",
       "<style scoped>\n",
       "    .dataframe tbody tr th:only-of-type {\n",
       "        vertical-align: middle;\n",
       "    }\n",
       "\n",
       "    .dataframe tbody tr th {\n",
       "        vertical-align: top;\n",
       "    }\n",
       "\n",
       "    .dataframe thead th {\n",
       "        text-align: right;\n",
       "    }\n",
       "</style>\n",
       "<table border=\"1\" class=\"dataframe\">\n",
       "  <thead>\n",
       "    <tr style=\"text-align: right;\">\n",
       "      <th></th>\n",
       "      <th>Day</th>\n",
       "      <th>Date</th>\n",
       "      <th>Visitors</th>\n",
       "      <th>No. Of Vistors Liked</th>\n",
       "    </tr>\n",
       "  </thead>\n",
       "  <tbody>\n",
       "    <tr>\n",
       "      <th>0</th>\n",
       "      <td>1</td>\n",
       "      <td>11/02/2019</td>\n",
       "      <td>55</td>\n",
       "      <td>40</td>\n",
       "    </tr>\n",
       "    <tr>\n",
       "      <th>1</th>\n",
       "      <td>2</td>\n",
       "      <td>12/02/2019</td>\n",
       "      <td>48</td>\n",
       "      <td>30</td>\n",
       "    </tr>\n",
       "    <tr>\n",
       "      <th>2</th>\n",
       "      <td>3</td>\n",
       "      <td>13/02/2019</td>\n",
       "      <td>69</td>\n",
       "      <td>49</td>\n",
       "    </tr>\n",
       "    <tr>\n",
       "      <th>3</th>\n",
       "      <td>4</td>\n",
       "      <td>14/02/2019</td>\n",
       "      <td>79</td>\n",
       "      <td>4</td>\n",
       "    </tr>\n",
       "    <tr>\n",
       "      <th>4</th>\n",
       "      <td>5</td>\n",
       "      <td>15/02/2019</td>\n",
       "      <td>108</td>\n",
       "      <td>73</td>\n",
       "    </tr>\n",
       "    <tr>\n",
       "      <th>5</th>\n",
       "      <td>6</td>\n",
       "      <td>16/02/2019</td>\n",
       "      <td>95</td>\n",
       "      <td>10</td>\n",
       "    </tr>\n",
       "  </tbody>\n",
       "</table>\n",
       "</div>"
      ],
      "text/plain": [
       "   Day        Date  Visitors  No. Of Vistors Liked\n",
       "0    1  11/02/2019        55                    40\n",
       "1    2  12/02/2019        48                    30\n",
       "2    3  13/02/2019        69                    49\n",
       "3    4  14/02/2019        79                     4\n",
       "4    5  15/02/2019       108                    73\n",
       "5    6  16/02/2019        95                    10"
      ]
     },
     "execution_count": 5,
     "metadata": {},
     "output_type": "execute_result"
    }
   ],
   "source": [
    "print(\"Printing the Dataframe by using head function of pandas :\")\n",
    "print(\"df.head() function by default print the first 5 datapoints....Here to see all the data points I use df.head(10)\")\n",
    "print('''\n",
    "        As discussed earlier head() is function avaliable in pandas. The head() function can be called by the dataframe object \n",
    "      so the statement is df.head()(dataframe_object.method())\n",
    "      ''')\n",
    "df.head(10)"
   ]
  },
  {
   "cell_type": "markdown",
   "metadata": {},
   "source": [
    "#### So far we have completed creating the dataframe for storing the required data....  Now before Answering the above question lets see how to access the elements...."
   ]
  },
  {
   "cell_type": "code",
   "execution_count": 6,
   "metadata": {
    "scrolled": true
   },
   "outputs": [
    {
     "name": "stdout",
     "output_type": "stream",
     "text": [
      "Shape of our DataFrame : (6, 4)\n",
      "The datatypes of the elements :\n",
      "Day                      int64\n",
      "Date                    object\n",
      "Visitors                 int64\n",
      "No. Of Vistors Liked     int64\n",
      "dtype: object\n",
      "\n",
      "This means the Day column contains of int64 data elements, Date contains object(Strings) type data elements and so on....\n"
     ]
    }
   ],
   "source": [
    "print(\"Shape of our DataFrame :\",df.shape)\n",
    "print(\"The datatypes of the elements :\")\n",
    "print(df.dtypes)\n",
    "print(\"\\nThis means the Day column contains of int64 data elements, Date contains object(Strings) type data elements and so on....\")"
   ]
  },
  {
   "cell_type": "markdown",
   "metadata": {},
   "source": [
    "#### -->How to Print only one Column. (Say Print Visitors Colomn....)\n",
    "            1. There are two ways of printing column data...\n",
    "                i) df.column_name\n",
    "                ii) df['column_name']\n",
    "             -> Which type is most preferable and why?"
   ]
  },
  {
   "cell_type": "code",
   "execution_count": 7,
   "metadata": {},
   "outputs": [
    {
     "data": {
      "text/plain": [
       "0     55\n",
       "1     48\n",
       "2     69\n",
       "3     79\n",
       "4    108\n",
       "5     95\n",
       "Name: Visitors, dtype: int64"
      ]
     },
     "execution_count": 7,
     "metadata": {},
     "output_type": "execute_result"
    }
   ],
   "source": [
    "df.Visitors # Prints Visitors column data"
   ]
  },
  {
   "cell_type": "code",
   "execution_count": 8,
   "metadata": {
    "scrolled": true
   },
   "outputs": [
    {
     "data": {
      "text/plain": [
       "0     55\n",
       "1     48\n",
       "2     69\n",
       "3     79\n",
       "4    108\n",
       "5     95\n",
       "Name: Visitors, dtype: int64"
      ]
     },
     "execution_count": 8,
     "metadata": {},
     "output_type": "execute_result"
    }
   ],
   "source": [
    "df['Visitors']"
   ]
  },
  {
   "cell_type": "markdown",
   "metadata": {},
   "source": [
    "##### From the above two which method is most preferable and why??? \n",
    "        1. The second menthod of retrieving data is most preferable one.\n",
    "            i) Lets take an instance, consider the column 4(No. Of Vistors Liked). You cannot retrive the data of that \n",
    "                column by using the first method. Since we have spaces in the name of the column.\n",
    "            ii) To get the data of two or more columns at a time first method is no logner valid..... you cannot get two \n",
    "                columns data at one instance of time...\n",
    "                \n",
    "     Lets print Two columns data... Visitors and No. Of Vistors Liked...."
   ]
  },
  {
   "cell_type": "code",
   "execution_count": 9,
   "metadata": {},
   "outputs": [
    {
     "data": {
      "text/html": [
       "<div>\n",
       "<style scoped>\n",
       "    .dataframe tbody tr th:only-of-type {\n",
       "        vertical-align: middle;\n",
       "    }\n",
       "\n",
       "    .dataframe tbody tr th {\n",
       "        vertical-align: top;\n",
       "    }\n",
       "\n",
       "    .dataframe thead th {\n",
       "        text-align: right;\n",
       "    }\n",
       "</style>\n",
       "<table border=\"1\" class=\"dataframe\">\n",
       "  <thead>\n",
       "    <tr style=\"text-align: right;\">\n",
       "      <th></th>\n",
       "      <th>Visitors</th>\n",
       "      <th>No. Of Vistors Liked</th>\n",
       "    </tr>\n",
       "  </thead>\n",
       "  <tbody>\n",
       "    <tr>\n",
       "      <th>0</th>\n",
       "      <td>55</td>\n",
       "      <td>40</td>\n",
       "    </tr>\n",
       "    <tr>\n",
       "      <th>1</th>\n",
       "      <td>48</td>\n",
       "      <td>30</td>\n",
       "    </tr>\n",
       "    <tr>\n",
       "      <th>2</th>\n",
       "      <td>69</td>\n",
       "      <td>49</td>\n",
       "    </tr>\n",
       "    <tr>\n",
       "      <th>3</th>\n",
       "      <td>79</td>\n",
       "      <td>4</td>\n",
       "    </tr>\n",
       "    <tr>\n",
       "      <th>4</th>\n",
       "      <td>108</td>\n",
       "      <td>73</td>\n",
       "    </tr>\n",
       "    <tr>\n",
       "      <th>5</th>\n",
       "      <td>95</td>\n",
       "      <td>10</td>\n",
       "    </tr>\n",
       "  </tbody>\n",
       "</table>\n",
       "</div>"
      ],
      "text/plain": [
       "   Visitors  No. Of Vistors Liked\n",
       "0        55                    40\n",
       "1        48                    30\n",
       "2        69                    49\n",
       "3        79                     4\n",
       "4       108                    73\n",
       "5        95                    10"
      ]
     },
     "execution_count": 9,
     "metadata": {},
     "output_type": "execute_result"
    }
   ],
   "source": [
    "df[['Visitors','No. Of Vistors Liked']]"
   ]
  },
  {
   "cell_type": "markdown",
   "metadata": {},
   "source": [
    "        --->So you might have understand how to get data form a single column or multiple columns... Now lets look how to get data through rows...."
   ]
  },
  {
   "cell_type": "code",
   "execution_count": 10,
   "metadata": {},
   "outputs": [
    {
     "data": {
      "text/html": [
       "<div>\n",
       "<style scoped>\n",
       "    .dataframe tbody tr th:only-of-type {\n",
       "        vertical-align: middle;\n",
       "    }\n",
       "\n",
       "    .dataframe tbody tr th {\n",
       "        vertical-align: top;\n",
       "    }\n",
       "\n",
       "    .dataframe thead th {\n",
       "        text-align: right;\n",
       "    }\n",
       "</style>\n",
       "<table border=\"1\" class=\"dataframe\">\n",
       "  <thead>\n",
       "    <tr style=\"text-align: right;\">\n",
       "      <th></th>\n",
       "      <th>Day</th>\n",
       "      <th>Date</th>\n",
       "      <th>Visitors</th>\n",
       "      <th>No. Of Vistors Liked</th>\n",
       "    </tr>\n",
       "  </thead>\n",
       "  <tbody>\n",
       "    <tr>\n",
       "      <th>0</th>\n",
       "      <td>1</td>\n",
       "      <td>11/02/2019</td>\n",
       "      <td>55</td>\n",
       "      <td>40</td>\n",
       "    </tr>\n",
       "  </tbody>\n",
       "</table>\n",
       "</div>"
      ],
      "text/plain": [
       "   Day        Date  Visitors  No. Of Vistors Liked\n",
       "0    1  11/02/2019        55                    40"
      ]
     },
     "execution_count": 10,
     "metadata": {},
     "output_type": "execute_result"
    }
   ],
   "source": [
    "# To get data from first row...\n",
    "df.head(1)"
   ]
  },
  {
   "cell_type": "code",
   "execution_count": 11,
   "metadata": {},
   "outputs": [
    {
     "data": {
      "text/html": [
       "<div>\n",
       "<style scoped>\n",
       "    .dataframe tbody tr th:only-of-type {\n",
       "        vertical-align: middle;\n",
       "    }\n",
       "\n",
       "    .dataframe tbody tr th {\n",
       "        vertical-align: top;\n",
       "    }\n",
       "\n",
       "    .dataframe thead th {\n",
       "        text-align: right;\n",
       "    }\n",
       "</style>\n",
       "<table border=\"1\" class=\"dataframe\">\n",
       "  <thead>\n",
       "    <tr style=\"text-align: right;\">\n",
       "      <th></th>\n",
       "      <th>Day</th>\n",
       "      <th>Date</th>\n",
       "      <th>Visitors</th>\n",
       "      <th>No. Of Vistors Liked</th>\n",
       "    </tr>\n",
       "  </thead>\n",
       "  <tbody>\n",
       "    <tr>\n",
       "      <th>0</th>\n",
       "      <td>1</td>\n",
       "      <td>11/02/2019</td>\n",
       "      <td>55</td>\n",
       "      <td>40</td>\n",
       "    </tr>\n",
       "    <tr>\n",
       "      <th>1</th>\n",
       "      <td>2</td>\n",
       "      <td>12/02/2019</td>\n",
       "      <td>48</td>\n",
       "      <td>30</td>\n",
       "    </tr>\n",
       "    <tr>\n",
       "      <th>2</th>\n",
       "      <td>3</td>\n",
       "      <td>13/02/2019</td>\n",
       "      <td>69</td>\n",
       "      <td>49</td>\n",
       "    </tr>\n",
       "  </tbody>\n",
       "</table>\n",
       "</div>"
      ],
      "text/plain": [
       "   Day        Date  Visitors  No. Of Vistors Liked\n",
       "0    1  11/02/2019        55                    40\n",
       "1    2  12/02/2019        48                    30\n",
       "2    3  13/02/2019        69                    49"
      ]
     },
     "execution_count": 11,
     "metadata": {},
     "output_type": "execute_result"
    }
   ],
   "source": [
    "# To get data of first 3 rows...\n",
    "df.head(3)"
   ]
  },
  {
   "cell_type": "code",
   "execution_count": 12,
   "metadata": {},
   "outputs": [
    {
     "data": {
      "text/html": [
       "<div>\n",
       "<style scoped>\n",
       "    .dataframe tbody tr th:only-of-type {\n",
       "        vertical-align: middle;\n",
       "    }\n",
       "\n",
       "    .dataframe tbody tr th {\n",
       "        vertical-align: top;\n",
       "    }\n",
       "\n",
       "    .dataframe thead th {\n",
       "        text-align: right;\n",
       "    }\n",
       "</style>\n",
       "<table border=\"1\" class=\"dataframe\">\n",
       "  <thead>\n",
       "    <tr style=\"text-align: right;\">\n",
       "      <th></th>\n",
       "      <th>Day</th>\n",
       "      <th>Date</th>\n",
       "      <th>Visitors</th>\n",
       "      <th>No. Of Vistors Liked</th>\n",
       "    </tr>\n",
       "  </thead>\n",
       "  <tbody>\n",
       "    <tr>\n",
       "      <th>4</th>\n",
       "      <td>5</td>\n",
       "      <td>15/02/2019</td>\n",
       "      <td>108</td>\n",
       "      <td>73</td>\n",
       "    </tr>\n",
       "    <tr>\n",
       "      <th>5</th>\n",
       "      <td>6</td>\n",
       "      <td>16/02/2019</td>\n",
       "      <td>95</td>\n",
       "      <td>10</td>\n",
       "    </tr>\n",
       "  </tbody>\n",
       "</table>\n",
       "</div>"
      ],
      "text/plain": [
       "   Day        Date  Visitors  No. Of Vistors Liked\n",
       "4    5  15/02/2019       108                    73\n",
       "5    6  16/02/2019        95                    10"
      ]
     },
     "execution_count": 12,
     "metadata": {},
     "output_type": "execute_result"
    }
   ],
   "source": [
    "# To get data from last 2 rows....\n",
    "df.tail(2)"
   ]
  },
  {
   "cell_type": "code",
   "execution_count": 13,
   "metadata": {
    "scrolled": true
   },
   "outputs": [
    {
     "data": {
      "text/html": [
       "<div>\n",
       "<style scoped>\n",
       "    .dataframe tbody tr th:only-of-type {\n",
       "        vertical-align: middle;\n",
       "    }\n",
       "\n",
       "    .dataframe tbody tr th {\n",
       "        vertical-align: top;\n",
       "    }\n",
       "\n",
       "    .dataframe thead th {\n",
       "        text-align: right;\n",
       "    }\n",
       "</style>\n",
       "<table border=\"1\" class=\"dataframe\">\n",
       "  <thead>\n",
       "    <tr style=\"text-align: right;\">\n",
       "      <th></th>\n",
       "      <th>Day</th>\n",
       "      <th>Date</th>\n",
       "      <th>Visitors</th>\n",
       "      <th>No. Of Vistors Liked</th>\n",
       "    </tr>\n",
       "  </thead>\n",
       "  <tbody>\n",
       "    <tr>\n",
       "      <th>0</th>\n",
       "      <td>1</td>\n",
       "      <td>11/02/2019</td>\n",
       "      <td>55</td>\n",
       "      <td>40</td>\n",
       "    </tr>\n",
       "    <tr>\n",
       "      <th>1</th>\n",
       "      <td>2</td>\n",
       "      <td>12/02/2019</td>\n",
       "      <td>48</td>\n",
       "      <td>30</td>\n",
       "    </tr>\n",
       "    <tr>\n",
       "      <th>2</th>\n",
       "      <td>3</td>\n",
       "      <td>13/02/2019</td>\n",
       "      <td>69</td>\n",
       "      <td>49</td>\n",
       "    </tr>\n",
       "    <tr>\n",
       "      <th>3</th>\n",
       "      <td>4</td>\n",
       "      <td>14/02/2019</td>\n",
       "      <td>79</td>\n",
       "      <td>4</td>\n",
       "    </tr>\n",
       "    <tr>\n",
       "      <th>4</th>\n",
       "      <td>5</td>\n",
       "      <td>15/02/2019</td>\n",
       "      <td>108</td>\n",
       "      <td>73</td>\n",
       "    </tr>\n",
       "    <tr>\n",
       "      <th>5</th>\n",
       "      <td>6</td>\n",
       "      <td>16/02/2019</td>\n",
       "      <td>95</td>\n",
       "      <td>10</td>\n",
       "    </tr>\n",
       "  </tbody>\n",
       "</table>\n",
       "</div>"
      ],
      "text/plain": [
       "   Day        Date  Visitors  No. Of Vistors Liked\n",
       "0    1  11/02/2019        55                    40\n",
       "1    2  12/02/2019        48                    30\n",
       "2    3  13/02/2019        69                    49\n",
       "3    4  14/02/2019        79                     4\n",
       "4    5  15/02/2019       108                    73\n",
       "5    6  16/02/2019        95                    10"
      ]
     },
     "execution_count": 13,
     "metadata": {},
     "output_type": "execute_result"
    }
   ],
   "source": [
    "# To get data from all rows.....\n",
    "df[:]"
   ]
  },
  {
   "cell_type": "code",
   "execution_count": 14,
   "metadata": {},
   "outputs": [
    {
     "data": {
      "text/plain": [
       "Day                              4\n",
       "Date                    14/02/2019\n",
       "Visitors                        79\n",
       "No. Of Vistors Liked             4\n",
       "Name: 3, dtype: object"
      ]
     },
     "execution_count": 14,
     "metadata": {},
     "output_type": "execute_result"
    }
   ],
   "source": [
    "# Get data From 3rd index..... Here Index starts form 0\n",
    "df.loc[3]"
   ]
  },
  {
   "cell_type": "code",
   "execution_count": 15,
   "metadata": {},
   "outputs": [
    {
     "data": {
      "text/plain": [
       "Index(['Day', 'Date', 'Visitors', 'No. Of Vistors Liked'], dtype='object')"
      ]
     },
     "execution_count": 15,
     "metadata": {},
     "output_type": "execute_result"
    }
   ],
   "source": [
    "# Get names of our columns.......\n",
    "df.columns"
   ]
  },
  {
   "cell_type": "markdown",
   "metadata": {},
   "source": [
    "#### We can discuss more about the basics and all the different stuff in later sessions.... Lets end this session by answering Our Questions.......\n",
    "        Q1. Find the Max number of visitors to the website.\n",
    "        Q2. On which dates Max and Min number of visitors visited the site.\n",
    "        Q3. Find the average number of visitor liked the website.\n",
    "        Q4. Find the correlation between the Visitor and No. of Visitors liked the Web Page"
   ]
  },
  {
   "cell_type": "markdown",
   "metadata": {},
   "source": [
    "### Answer 1:"
   ]
  },
  {
   "cell_type": "code",
   "execution_count": 16,
   "metadata": {
    "scrolled": false
   },
   "outputs": [
    {
     "name": "stdout",
     "output_type": "stream",
     "text": [
      "Answer#1 : Max number of visitors to the site : 108\n"
     ]
    }
   ],
   "source": [
    "print(\"Answer#1 : Max number of visitors to the site :\",df['Visitors'].max())"
   ]
  },
  {
   "cell_type": "markdown",
   "metadata": {},
   "source": [
    "        --> To get the max value in the required column, we can simply get the max value by specifing the column that we \n",
    "            need and applying the max() function on it...\n",
    "        --> In the similar fasion, We can get the Min, Mean, Std, median, cumulative sum values as well...."
   ]
  },
  {
   "cell_type": "code",
   "execution_count": 17,
   "metadata": {},
   "outputs": [
    {
     "name": "stdout",
     "output_type": "stream",
     "text": [
      "Min number of visitors to the site : 48\n",
      "Mean of Visitors : 75.66666666666667\n",
      "Std of Visitors : 23.096897338531566\n"
     ]
    }
   ],
   "source": [
    "print(\"Min number of visitors to the site :\",df['Visitors'].min())\n",
    "print(\"Mean of Visitors :\",df['Visitors'].mean())\n",
    "print(\"Std of Visitors :\",df.Visitors.std())"
   ]
  },
  {
   "cell_type": "markdown",
   "metadata": {},
   "source": [
    "### Answer 2:"
   ]
  },
  {
   "cell_type": "code",
   "execution_count": 20,
   "metadata": {
    "scrolled": false
   },
   "outputs": [
    {
     "name": "stdout",
     "output_type": "stream",
     "text": [
      "Answer#2 :\n",
      "\t\tDate of Max no. of Visits :\t\t 4    15/02/2019\n",
      "Name: Date, dtype: object\n",
      "\t\tDate of Min no. of Visits :\t\t 1    12/02/2019\n",
      "Name: Date, dtype: object\n"
     ]
    }
   ],
   "source": [
    "print(\"Answer#2 :\")\n",
    "print(\"\\t\\tDate of Max no. of Visits :\\t\\t\",df['Date'][df['Visitors']==df['Visitors'].max()] )\n",
    "print(\"\\t\\tDate of Min no. of Visits :\\t\\t\",df['Date'][df['Visitors']==df['Visitors'].min()])"
   ]
  },
  {
   "cell_type": "markdown",
   "metadata": {},
   "source": [
    "        ---> The output for max no. of visits is : 15/02/19 that is True\n",
    "        ---> The output for min no. of visits is : 12/02/19 that is True\n",
    "\n",
    "#### df['What we Need'][Condition]....... This is what we have used....\n",
    "        \n",
    "        df['Date'][df['Visitors']==df['Visitors'].max()]\n",
    "            ----> Here We need the date as our output... df['Date'] will print/return all the dates....\n",
    "                  now we need only one date when the traffic(Visitors) are high/max..\n",
    "                  df['Visitors'] == df['Visitors'].max() - is our condition. This Will stand True when the Visitors Are High\n",
    "            ----> In words our statement mean :\n",
    "                    Print the date in which the condition stand True....\n",
    "                  "
   ]
  },
  {
   "cell_type": "markdown",
   "metadata": {},
   "source": [
    "#### Question 2 Extended: \n",
    "                Print the no of visits also with the date."
   ]
  },
  {
   "cell_type": "code",
   "execution_count": 4,
   "metadata": {},
   "outputs": [
    {
     "data": {
      "text/html": [
       "<div>\n",
       "<style scoped>\n",
       "    .dataframe tbody tr th:only-of-type {\n",
       "        vertical-align: middle;\n",
       "    }\n",
       "\n",
       "    .dataframe tbody tr th {\n",
       "        vertical-align: top;\n",
       "    }\n",
       "\n",
       "    .dataframe thead th {\n",
       "        text-align: right;\n",
       "    }\n",
       "</style>\n",
       "<table border=\"1\" class=\"dataframe\">\n",
       "  <thead>\n",
       "    <tr style=\"text-align: right;\">\n",
       "      <th></th>\n",
       "      <th>Date</th>\n",
       "      <th>Visitors</th>\n",
       "    </tr>\n",
       "  </thead>\n",
       "  <tbody>\n",
       "    <tr>\n",
       "      <th>4</th>\n",
       "      <td>15/02/2019</td>\n",
       "      <td>108</td>\n",
       "    </tr>\n",
       "  </tbody>\n",
       "</table>\n",
       "</div>"
      ],
      "text/plain": [
       "         Date  Visitors\n",
       "4  15/02/2019       108"
      ]
     },
     "execution_count": 4,
     "metadata": {},
     "output_type": "execute_result"
    }
   ],
   "source": [
    "df[['Date','Visitors']][df['Visitors']==df['Visitors'].max()]"
   ]
  },
  {
   "cell_type": "code",
   "execution_count": 5,
   "metadata": {
    "scrolled": true
   },
   "outputs": [
    {
     "data": {
      "text/html": [
       "<div>\n",
       "<style scoped>\n",
       "    .dataframe tbody tr th:only-of-type {\n",
       "        vertical-align: middle;\n",
       "    }\n",
       "\n",
       "    .dataframe tbody tr th {\n",
       "        vertical-align: top;\n",
       "    }\n",
       "\n",
       "    .dataframe thead th {\n",
       "        text-align: right;\n",
       "    }\n",
       "</style>\n",
       "<table border=\"1\" class=\"dataframe\">\n",
       "  <thead>\n",
       "    <tr style=\"text-align: right;\">\n",
       "      <th></th>\n",
       "      <th>Date</th>\n",
       "      <th>Visitors</th>\n",
       "    </tr>\n",
       "  </thead>\n",
       "  <tbody>\n",
       "    <tr>\n",
       "      <th>1</th>\n",
       "      <td>12/02/2019</td>\n",
       "      <td>48</td>\n",
       "    </tr>\n",
       "  </tbody>\n",
       "</table>\n",
       "</div>"
      ],
      "text/plain": [
       "         Date  Visitors\n",
       "1  12/02/2019        48"
      ]
     },
     "execution_count": 5,
     "metadata": {},
     "output_type": "execute_result"
    }
   ],
   "source": [
    "df[['Date','Visitors']][df['Visitors']==df['Visitors'].min()]"
   ]
  },
  {
   "cell_type": "markdown",
   "metadata": {},
   "source": [
    "### Comparing with------- >df['What we Need'][Condition]\n",
    "        ---> Here What we need is Date and Visitors.....\n",
    "                So, df[['Date','Visitors']] - This will give both Date and Visitors columns completely.... To get only \n",
    "                required quatity we are placing the condition next to it...."
   ]
  },
  {
   "cell_type": "markdown",
   "metadata": {},
   "source": [
    "### Answer 3:"
   ]
  },
  {
   "cell_type": "code",
   "execution_count": 31,
   "metadata": {},
   "outputs": [
    {
     "name": "stdout",
     "output_type": "stream",
     "text": [
      "Average No. of likes to the Page/Site :(Simply Finding Mean) 34.333333333333336\n",
      "Average No. of likes to the Page/Site :(Mathematical Calculation) 34.333333333333336\n"
     ]
    }
   ],
   "source": [
    "print(\"Average No. of likes to the Page/Site :(Simply Finding Mean)\",df['No. Of Vistors Liked'].mean())\n",
    "print(\"Average No. of likes to the Page/Site :(Mathematical Calculation)\",sum(df['No. Of Vistors Liked'])/len(df))"
   ]
  },
  {
   "cell_type": "markdown",
   "metadata": {},
   "source": [
    "### Answer 4:"
   ]
  },
  {
   "cell_type": "code",
   "execution_count": 36,
   "metadata": {
    "scrolled": true
   },
   "outputs": [
    {
     "data": {
      "text/html": [
       "<div>\n",
       "<style scoped>\n",
       "    .dataframe tbody tr th:only-of-type {\n",
       "        vertical-align: middle;\n",
       "    }\n",
       "\n",
       "    .dataframe tbody tr th {\n",
       "        vertical-align: top;\n",
       "    }\n",
       "\n",
       "    .dataframe thead th {\n",
       "        text-align: right;\n",
       "    }\n",
       "</style>\n",
       "<table border=\"1\" class=\"dataframe\">\n",
       "  <thead>\n",
       "    <tr style=\"text-align: right;\">\n",
       "      <th></th>\n",
       "      <th>Visitors</th>\n",
       "      <th>No. Of Vistors Liked</th>\n",
       "    </tr>\n",
       "  </thead>\n",
       "  <tbody>\n",
       "    <tr>\n",
       "      <th>Visitors</th>\n",
       "      <td>1.000000</td>\n",
       "      <td>0.197529</td>\n",
       "    </tr>\n",
       "    <tr>\n",
       "      <th>No. Of Vistors Liked</th>\n",
       "      <td>0.197529</td>\n",
       "      <td>1.000000</td>\n",
       "    </tr>\n",
       "  </tbody>\n",
       "</table>\n",
       "</div>"
      ],
      "text/plain": [
       "                      Visitors  No. Of Vistors Liked\n",
       "Visitors              1.000000              0.197529\n",
       "No. Of Vistors Liked  0.197529              1.000000"
      ]
     },
     "execution_count": 36,
     "metadata": {},
     "output_type": "execute_result"
    }
   ],
   "source": [
    "df.drop(['Day'],1).corr()"
   ]
  },
  {
   "cell_type": "markdown",
   "metadata": {},
   "source": [
    "        --> Correlation : It gives a mutual relationship or connection between two or more things.\n",
    "            Here : Visitors comparing with itself Completely overlap... All the entities completely match with each other\n",
    "                   Hence, 1st Value here is 1.000000.\n",
    "                   Now, Visitors comparing with No. Of Visitors Liked The value is 0.197529 indicating both are very loosly\n",
    "                   Related....\n",
    "#### This type of analizing relationship, we are going to use more in Machine Learning...."
   ]
  },
  {
   "cell_type": "markdown",
   "metadata": {},
   "source": [
    "### Hope this notebook was Helpful !!! Thank You..."
   ]
  },
  {
   "cell_type": "markdown",
   "metadata": {},
   "source": [
    "##### Notebook Prepared By : V.PoornaChand\n",
    "https://www.linkedin.com/in/poorna-chand-902642177/"
   ]
  }
 ],
 "metadata": {
  "kernelspec": {
   "display_name": "Python 3",
   "language": "python",
   "name": "python3"
  },
  "language_info": {
   "codemirror_mode": {
    "name": "ipython",
    "version": 3
   },
   "file_extension": ".py",
   "mimetype": "text/x-python",
   "name": "python",
   "nbconvert_exporter": "python",
   "pygments_lexer": "ipython3",
   "version": "3.6.5"
  }
 },
 "nbformat": 4,
 "nbformat_minor": 2
}
